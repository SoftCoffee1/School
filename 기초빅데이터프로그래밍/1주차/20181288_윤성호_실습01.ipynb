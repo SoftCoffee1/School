{
 "cells": [
  {
   "cell_type": "code",
   "execution_count": 7,
   "id": "cfedba7b",
   "metadata": {},
   "outputs": [
    {
     "name": "stdout",
     "output_type": "stream",
     "text": [
      "Overwriting inverseIn.py\n"
     ]
    }
   ],
   "source": [
    "%%writefile inverseIn.py\n",
    "\n",
    "# 문자열 입력 받기\n",
    "sentence = input(\"Input :\")\n",
    "\n",
    "# 문자열을 역순으로 배치하기\n",
    "sentence = sentence[::-1]\n",
    "\n",
    "# 매번 i번째 문자부터 끝까지 출력하는 반복문\n",
    "# 매 loop마다 i는 문자열의 길이부터 0까지 1씩 작아진다.\n",
    "for i in range(len(sentence), -1, -1):\n",
    "    \n",
    "    # 파이썬에서 print문은 실행 후 한줄 띄기가 default이다. 띄어쓰기 하지 않기 위해서는 print(sentence, end=\"\")로 해주어야 한다.\n",
    "    print(sentence[i:])"
   ]
  },
  {
   "cell_type": "code",
   "execution_count": 8,
   "id": "663110b9",
   "metadata": {},
   "outputs": [
    {
     "name": "stdout",
     "output_type": "stream",
     "text": [
      "Input :Sogang University\n",
      "\n",
      "S\n",
      "oS\n",
      "goS\n",
      "agoS\n",
      "nagoS\n",
      "gnagoS\n",
      " gnagoS\n",
      "U gnagoS\n",
      "nU gnagoS\n",
      "inU gnagoS\n",
      "vinU gnagoS\n",
      "evinU gnagoS\n",
      "revinU gnagoS\n",
      "srevinU gnagoS\n",
      "isrevinU gnagoS\n",
      "tisrevinU gnagoS\n",
      "ytisrevinU gnagoS\n"
     ]
    }
   ],
   "source": [
    "%run inverseIn.py"
   ]
  },
  {
   "cell_type": "code",
   "execution_count": null,
   "id": "df11a62c",
   "metadata": {},
   "outputs": [],
   "source": []
  }
 ],
 "metadata": {
  "kernelspec": {
   "display_name": "Python 3 (ipykernel)",
   "language": "python",
   "name": "python3"
  },
  "language_info": {
   "codemirror_mode": {
    "name": "ipython",
    "version": 3
   },
   "file_extension": ".py",
   "mimetype": "text/x-python",
   "name": "python",
   "nbconvert_exporter": "python",
   "pygments_lexer": "ipython3",
   "version": "3.9.7"
  }
 },
 "nbformat": 4,
 "nbformat_minor": 5
}
