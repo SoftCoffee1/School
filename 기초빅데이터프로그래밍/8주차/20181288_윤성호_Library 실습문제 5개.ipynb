{
 "cells": [
  {
   "cell_type": "code",
   "execution_count": 9,
   "id": "93ae0e54",
   "metadata": {},
   "outputs": [
    {
     "data": {
      "text/html": [
       "<style>.container { width:60% !important; }</style>"
      ],
      "text/plain": [
       "<IPython.core.display.HTML object>"
      ]
     },
     "metadata": {},
     "output_type": "display_data"
    }
   ],
   "source": [
    "## 주피터 노트북 화면 크기 조정하는 부분입니다.\n",
    "## 아래 퍼센트 부분 조교님 채점 환경에서 출력문 잘 보이실정도로 조정해주시면 좋을 것 같습니다. (60% -> 80%로 하시면 박스가 더 커집니다.)\n",
    "\n",
    "from IPython.core.display import display, HTML\n",
    "display(HTML(\"<style>.container { width:60% !important; }</style>\"))"
   ]
  },
  {
   "cell_type": "code",
   "execution_count": 10,
   "id": "71bf58e9",
   "metadata": {},
   "outputs": [
    {
     "name": "stdout",
     "output_type": "stream",
     "text": [
      "Overwriting W_2.py\n"
     ]
    }
   ],
   "source": [
    "%%writefile W_2.py\n",
    "\n",
    "# 1번 문제\n",
    "\n",
    "import datetime\n",
    "import sys\n",
    "\n",
    "DAY = [\"월요일\", \"화요일\", \"수요일\", \"목요일\", \"금요일\", \"토요일\", \"일요일\"]\n",
    "\n",
    "if __name__ == \"__main__\":\n",
    "    \n",
    "    try:\n",
    "        year = int(sys.argv[1])\n",
    "        month = int(sys.argv[2])\n",
    "        day = int(sys.argv[3])\n",
    "        day_num = datetime.date(year, month, day).weekday()\n",
    "        \n",
    "    except ValueError:\n",
    "        print(\"유효한 날짜를 입력해주세요.\")\n",
    "        \n",
    "    except IndexError:\n",
    "        print(\"년, 월, 일 순으로 모두 입력해주세요\")\n",
    "    \n",
    "    else:\n",
    "        print(DAY[day_num])"
   ]
  },
  {
   "cell_type": "code",
   "execution_count": 11,
   "id": "efbf854e",
   "metadata": {},
   "outputs": [
    {
     "name": "stdout",
     "output_type": "stream",
     "text": [
      "수요일\n"
     ]
    }
   ],
   "source": [
    "%run W_2 2018 10 3"
   ]
  },
  {
   "cell_type": "code",
   "execution_count": 12,
   "id": "36bafdd6",
   "metadata": {
    "scrolled": true
   },
   "outputs": [
    {
     "name": "stdout",
     "output_type": "stream",
     "text": [
      "posix\n"
     ]
    }
   ],
   "source": [
    "# 2번 문제\n",
    "import os\n",
    "print(os.name)"
   ]
  },
  {
   "cell_type": "code",
   "execution_count": 13,
   "id": "85326f7f",
   "metadata": {},
   "outputs": [
    {
     "name": "stdout",
     "output_type": "stream",
     "text": [
      "Overwriting leapArg.py\n"
     ]
    }
   ],
   "source": [
    "%%writefile leapArg.py\n",
    "\n",
    "# 3번 문제\n",
    "\n",
    "## sys.argv를 이용하여 인자를 받아오기 위해 필요한 모듈이다.\n",
    "import sys\n",
    "\n",
    "## 정수형 입력 여부 체크를 위한 함수\n",
    "def isNum(string):\n",
    "    \n",
    "    ## for loop로 각각의 char를 확인하며 아스키코드상 \"0\"과 \"9\" 사이에 있는지 체크한다.\n",
    "    for letter in string:\n",
    "        if not (\"0\" <= letter <= \"9\"):\n",
    "            return False\n",
    "        \n",
    "    return True\n",
    "\n",
    "## 유효한 년도를 입력했는지 여부 판별 함수\n",
    "def is_valid_year(year):\n",
    "    \n",
    "    ## 정수가 아니라면 유효하지 않다.\n",
    "    if not isNum(year):\n",
    "        return False\n",
    "    \n",
    "    ## year은 1이상의 정수만 유효하다.\n",
    "    if 1 <= int(year):\n",
    "        return True\n",
    "    \n",
    "    else:\n",
    "        return False\n",
    "    \n",
    "## 유효한 달을 입력했는지 여부 판별 함수\n",
    "def is_valid_month(month):\n",
    "    \n",
    "    ## 정수가 아니라면 유효하지 않다.\n",
    "    if not isNum(month):\n",
    "        return False\n",
    "    \n",
    "    ## month는 1이상 12이하만 유효하다.\n",
    "    if 1<= int(month) <= 12:\n",
    "        return True\n",
    "    \n",
    "    else:\n",
    "        return False\n",
    "    \n",
    "\n",
    "## 유효한 일을 입력했는지 여부 판별 함수\n",
    "## year과 month에 따라서 같은 day가 유효할 수도, 아닐수도 있기때문에 파라미터로 셋다 집어넣어주어야 한다.\n",
    "def is_valid_day(year, month, day):\n",
    "    \n",
    "    ## 정수가 아니라면 유효하지 않다.\n",
    "    if not isNum(day):\n",
    "        return False\n",
    "    \n",
    "    ## 윤년일때와 아닐때는 2월의 날이 다르다. \n",
    "    ## 각 리스트의 첫번째 인덱스값은 dummy value이다.\n",
    "    DaysInMonth = [0, 31, 28, 31, 30, 31, 30, 31, 31, 30, 31, 30, 31]\n",
    "    DaysInMonthLeap = [0, 31, 29, 31, 30, 31, 30, 31, 31, 30, 31, 30, 31]\n",
    "    \n",
    "    \n",
    "    ## 달이 유효하고\n",
    "    if is_valid_month(month):\n",
    "        \n",
    "        ## 윤년이면 \n",
    "        if is_leap(year):\n",
    "            \n",
    "            ## 해당 달에서 나올 수 있는 날이면 유효하다. \n",
    "            ## 달을 DaysInMonthLeap 리스트로 체크한다.\n",
    "            if 1 <= int(day) <= DaysInMonthLeap[int(month)]:\n",
    "                return True\n",
    "        \n",
    "        ## 윤년이 아니면\n",
    "        else:\n",
    "            \n",
    "            ## 해당 달에서 나올 수 있는 날이면 유효하다.\n",
    "            ## 달을 DaysInMonth 리스트로 체크한다.\n",
    "            if 1 <= int(day) <= DaysInMonth[int(month)]:\n",
    "                return True\n",
    "        \n",
    "        \n",
    "    return False\n",
    "\n",
    "## 입력 날짜의 유효성 검사 함수\n",
    "def is_valid_date(year, month, day):\n",
    "    \n",
    "    ## 년도, 월, 일이 모두 유효하면 유효한 날짜이다.\n",
    "    if is_valid_year(year) and is_valid_month(month) and is_valid_day(year, month, day):\n",
    "        return True\n",
    "    \n",
    "    else:\n",
    "        return False\n",
    "\n",
    "\n",
    "\n",
    "## 유효한 날짜가 입력되면 요일의 이름을 반환하주는 함수\n",
    "def get_day_name(year, month, day):\n",
    "    \n",
    "    ## 유효한 입력이 아니면 False를 반환한다.\n",
    "    if not is_valid_date(year, month, day):\n",
    "        return \"유효한 입력이 아닙니다.\"\n",
    "    \n",
    "    \n",
    "    ## 윤년일때와 아닐때는 2월의 날이 다르다. \n",
    "    ## 각 리스트의 첫번째 인덱스값은 dummy value이다.\n",
    "    DaysInMonth = [0, 31, 28, 31, 30, 31, 30, 31, 31, 30, 31, 30, 31]\n",
    "    DaysInMonthLeap = [0, 31, 29, 31, 30, 31, 30, 31, 31, 30, 31, 30, 31]\n",
    "    \n",
    "    year = int(year)\n",
    "    month = int(month)\n",
    "    day = int(day)\n",
    "    \n",
    "    \n",
    "    ######### 년도를 일수로 바꾸기 #########\n",
    "    \n",
    "    ## 입력한 년은 모두 지난 것이 아니므로 년도를 일수로 바꿀때는 전년도(year-1)까지만 생각한다.\n",
    "    year4 = (year-1) // 4\n",
    "    year100 = (year-1) // 100\n",
    "    year400 = (year-1) // 400\n",
    "    \n",
    "    leapCount = year4 - year100 + year400 ## 윤년을 세서 저장하는 변수\n",
    "    ordiCount = (year-1) - leapCount      ## 윤년이 아닌 년도를 세서 저장하는 변수\n",
    "    \n",
    "    ## 윤년은 2월 29일까지 포함하므로 366일\n",
    "    ## 윤년이 아니면 365일이다.\n",
    "    year2Day = leapCount*366 + ordiCount*365\n",
    "    \n",
    "    \n",
    "    ######### 월을 일수로 바꾸기 #########\n",
    "    month2Day = 0\n",
    "    \n",
    "    ## 윤년이면 윤년기준 달로 보기\n",
    "    if is_leap(year):\n",
    "        for m in range(month):\n",
    "            month2Day += DaysInMonthLeap[m]\n",
    "    \n",
    "    ## 윤년이 아니면 윤년 아닌 기준 달로 보기\n",
    "    else:\n",
    "        for m in range(month):\n",
    "            month2Day += DaysInMonth[m]\n",
    "        \n",
    "    \n",
    "    ## 서기 1년 1월 1일부터 입력된 날까지의 날 수를 모두 더한 값\n",
    "    convertedDay = year2Day + month2Day + day\n",
    "    \n",
    "    ## 그 값을 7로 나누면 요일이 나온다.\n",
    "    day_name = convertedDay % 7\n",
    "    \n",
    "    \n",
    "    ## 1년 1월 1일이 월요일이므로, 인덱스 1값을 월요일로 주었다.\n",
    "    DAYNAME = [\"일\", \"월\", \"화\", \"수\", \"목\", \"금\", \"토\"]\n",
    "    \n",
    "    return DAYNAME[day_name] + \"요일\"\n",
    "    \n",
    "\n",
    "\n",
    "## 윤년 체크 함수\n",
    "def is_leap(year):\n",
    "    \n",
    "    ## 계산하기 위해 정수형으로 바꿔준다.\n",
    "    year = int(year)\n",
    "    \n",
    "    ## 400의 배수이면 윤년이다.\n",
    "    if year % 400 == 0:\n",
    "        return True\n",
    "    \n",
    "    ## 400의 배수가 아닌 수중에\n",
    "    else:\n",
    "        \n",
    "        ## 100의 배수이면 윤년이 아니다.\n",
    "        if year % 100 == 0:\n",
    "            return False\n",
    "        \n",
    "        ## 100의 배수도 아닌 수중에\n",
    "        else:\n",
    "            \n",
    "            ## 4의 배수이면 윤년이다.\n",
    "            if year % 4 == 0:\n",
    "                return True\n",
    "    \n",
    "    ## 나머지는 모두 윤년이 아니다.\n",
    "    return False\n",
    "\n",
    "\n",
    "## import해서 사용하는 것이 아니라 직접 호출한다.\n",
    "if __name__ == \"__main__\":\n",
    "    \n",
    "    try:\n",
    "        year = sys.argv[1]\n",
    "        month = sys.argv[2]\n",
    "        day = sys.argv[3]\n",
    "    \n",
    "        result = get_day_name(year, month, day)\n",
    "        \n",
    "    except IndexError:\n",
    "        print(\"년, 월, 일 순으로 모두 입력해주세요\")\n",
    "        \n",
    "    else:\n",
    "        print(result)\n",
    "        \n",
    "    "
   ]
  },
  {
   "cell_type": "code",
   "execution_count": 15,
   "id": "06c17a40",
   "metadata": {},
   "outputs": [
    {
     "name": "stdout",
     "output_type": "stream",
     "text": [
      "수요일\n"
     ]
    }
   ],
   "source": [
    "%run leapArg 2020 4 15"
   ]
  },
  {
   "cell_type": "code",
   "execution_count": 7,
   "id": "35be6a43",
   "metadata": {},
   "outputs": [
    {
     "name": "stdout",
     "output_type": "stream",
     "text": [
      "밑이 e인 로그로 처리했을때의 1번 답: -1.6351885780427125e-13\n",
      "밑이 10인 로그로 처리했을때의 1번 답: -3.7651608440352804e-13\n",
      "밑이 e인 로그로 처리했을때의 2번 답: 2.939601270583009e+48\n",
      "밑이 10인 로그로 처리했을때의 2번 답: 1.2766526108099888e+48\n",
      "3번 답: 1.0\n"
     ]
    }
   ],
   "source": [
    "# 4번 문제\n",
    "\n",
    "import math\n",
    "\n",
    "num1 = 2000 / math.log(20) * math.sin(2*math.pi)   ## 밑이 e인 로그\n",
    "num2 = 2000 / math.log10(20) * math.sin(2*math.pi) ## 밑이 10인 로그\n",
    "num3 = math.pow(3,100) * math.log(300)             ## 밑이 e인 로그\n",
    "num4 = math.pow(3,100) * math.log10(300)           ## 밑이 10인 로그\n",
    "num5 = math.sin(math.radians(45)) * math.pow(2, 0.5)    \n",
    "\n",
    "print(f\"밑이 e인 로그로 처리했을때의 1번 답: {num1}\")\n",
    "print(f\"밑이 10인 로그로 처리했을때의 1번 답: {num2}\")\n",
    "print(f\"밑이 e인 로그로 처리했을때의 2번 답: {num3}\")\n",
    "print(f\"밑이 10인 로그로 처리했을때의 2번 답: {num4}\")\n",
    "print(f\"3번 답: {num5}\")"
   ]
  },
  {
   "cell_type": "code",
   "execution_count": 8,
   "id": "cc657453",
   "metadata": {},
   "outputs": [
    {
     "name": "stdout",
     "output_type": "stream",
     "text": [
      "가위, 바위, 보 중 하나를 선택하시오: 바위\n",
      "플레이어 : 바위\n",
      "컴퓨터 : 보\n",
      "컴퓨터가 이겼습니다.\n"
     ]
    }
   ],
   "source": [
    "# 5번 문제\n",
    "\n",
    "import random\n",
    "\n",
    "def game():\n",
    "    \n",
    "    word2num = {\"가위\" : 0, \"바위\" : 1, \"보\" : 2}\n",
    "    num2word = {0 : \"가위\", 1 : \"바위\", 2 : \"보\"}\n",
    "    \n",
    "    Me = word2num[input(\"가위, 바위, 보 중 하나를 선택하시오: \")]\n",
    "    Computer = random.randint(0,2)\n",
    "    \n",
    "    result = (Me - Computer)%3\n",
    "\n",
    "    print(f\"플레이어 : {num2word[Me]}\")\n",
    "    print(f\"컴퓨터 : {num2word[Computer]}\")\n",
    "          \n",
    "    if result == 0:\n",
    "        print(\"비겼습니다.\")\n",
    "    \n",
    "    elif result == 1:\n",
    "        print(\"당신이 이겼습니다.\")\n",
    "        \n",
    "    elif result == 2:\n",
    "        print(\"컴퓨터가 이겼습니다.\")\n",
    "        \n",
    "if __name__ == \"__main__\":\n",
    "    try:\n",
    "        game()\n",
    "        \n",
    "    except KeyError:\n",
    "        print(\"잘못된 입력입니다.\")"
   ]
  },
  {
   "cell_type": "code",
   "execution_count": null,
   "id": "068556b4",
   "metadata": {},
   "outputs": [],
   "source": []
  }
 ],
 "metadata": {
  "kernelspec": {
   "display_name": "Python 3 (ipykernel)",
   "language": "python",
   "name": "python3"
  },
  "language_info": {
   "codemirror_mode": {
    "name": "ipython",
    "version": 3
   },
   "file_extension": ".py",
   "mimetype": "text/x-python",
   "name": "python",
   "nbconvert_exporter": "python",
   "pygments_lexer": "ipython3",
   "version": "3.9.7"
  }
 },
 "nbformat": 4,
 "nbformat_minor": 5
}
