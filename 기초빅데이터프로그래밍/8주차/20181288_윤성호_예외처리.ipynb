{
 "cells": [
  {
   "cell_type": "code",
   "execution_count": null,
   "id": "d95750f6",
   "metadata": {},
   "outputs": [],
   "source": [
    "class ScoreError(Exception):\n",
    "    \n",
    "    def __init__(self, msg):\n",
    "        self._message = msg\n",
    "        \n",
    "\n",
    "def is_not_num(string):\n",
    "    \n",
    "    for letter in string:\n",
    "        \n",
    "        if not('0' <= letter <= '9'):\n",
    "            return True\n",
    "        \n",
    "    return False\n",
    "            \n",
    "        \n",
    "def get_score():\n",
    "    score = input(\"점수를 입력하시오: \")\n",
    "    \n",
    "    ## 입력이 숫자가 아니면 에러처리\n",
    "    if is_not_num(score):\n",
    "        raise ScoreError(\"입력은 숫자만 가능합니다.\")\n",
    "    \n",
    "    ## 0부터 100사이의 수이면 점수 출력\n",
    "    elif 0 <= int(score) <= 100:\n",
    "        return int(score)\n",
    "    \n",
    "    ## 그 바깥의 숫자가 입력되면 ScoreError를 이용해서 에러처리\n",
    "    else:\n",
    "        raise ScoreError(\"점수는 0점에서 100점 사이의 값이어야 합니다.\")\n",
    "        \n",
    "\n",
    "if __name__ == \"__main__\":\n",
    "    try:\n",
    "        score = get_score()\n",
    "        \n",
    "    except ScoreError as e:\n",
    "        print(e.args[0])\n",
    "        \n",
    "    else:\n",
    "        print(f\"점수는 {score}입니다.\")"
   ]
  },
  {
   "cell_type": "code",
   "execution_count": null,
   "id": "d6f79371",
   "metadata": {},
   "outputs": [],
   "source": [
    "num = [0,1,2,3,4,5,6,7,8,9,10]\n",
    "\n",
    "    \n",
    "while True:\n",
    "    try:\n",
    "        index = int(input(\"인덱스를 입력하시오: \"))\n",
    "        result = num[index]\n",
    "        \n",
    "    except ValueError:\n",
    "        print(\"프로그램을 종료합니다.\")\n",
    "        break\n",
    "\n",
    "    except IndexError:\n",
    "        print(-1)\n",
    "\n",
    "    else:\n",
    "        print(result)\n"
   ]
  },
  {
   "cell_type": "code",
   "execution_count": null,
   "id": "a62a5268",
   "metadata": {},
   "outputs": [],
   "source": []
  }
 ],
 "metadata": {
  "kernelspec": {
   "display_name": "Python 3 (ipykernel)",
   "language": "python",
   "name": "python3"
  },
  "language_info": {
   "codemirror_mode": {
    "name": "ipython",
    "version": 3
   },
   "file_extension": ".py",
   "mimetype": "text/x-python",
   "name": "python",
   "nbconvert_exporter": "python",
   "pygments_lexer": "ipython3",
   "version": "3.9.7"
  }
 },
 "nbformat": 4,
 "nbformat_minor": 5
}
