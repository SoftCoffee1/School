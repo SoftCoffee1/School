{
 "cells": [
  {
   "cell_type": "code",
   "execution_count": 6,
   "id": "08253767",
   "metadata": {},
   "outputs": [
    {
     "name": "stdout",
     "output_type": "stream",
     "text": [
      "Overwriting fibonacci.py\n"
     ]
    }
   ],
   "source": [
    "%%writefile fibonacci.py\n",
    "\n",
    "\"\"\"\n",
    "recursive한 방법\n",
    "\n",
    "재귀함수를 이용하여 피보나치 수를 구할 수 있다. 이때 피보나치 수열을 리스트에 저장해가며 계산을 하면 훨씬 금방 값을 구할 수 있다.\n",
    "구했던 피보나치 항을 처음부터 다시 계산하지 않고 저장된 값을 불러오는 방법을 이용하는 것이다.\n",
    "\"\"\"\n",
    "\n",
    "# n번째 피보나치수를 리턴하는 함수\n",
    "def fibonacci(n):\n",
    "    \n",
    "    # n번째 피보나치 수가 이미 계산되었다면 저장되어 있는 수를 불러온다.\n",
    "    if fiboList[n] != -1:\n",
    "        return fiboList[n]\n",
    "    \n",
    "    # 재귀적으로 함수를 호출한다.\n",
    "    fiboList[n] = fibonacci(n-1) + fibonacci(n-2)\n",
    "    return fiboList[n]\n",
    "\n",
    "# 몇번째 피보나치 수를 구하고 싶은 지 입력받기.\n",
    "num = int(input(\"input: \"))\n",
    "\n",
    "# fiboList[i] : i번째 피보나치 수\n",
    "fiboList = [-1 for _ in range(num+1)]  # -1로 초기화하고 계산해가면서 값을 업데이트 해준다.\n",
    "fiboList[0] = 0  # 0번째 피보나치 수는 0\n",
    "fiboList[1] = 1  # 1번째 피보나치 수는 1\n",
    "\n",
    "print(fibonacci(num))"
   ]
  },
  {
   "cell_type": "code",
   "execution_count": 7,
   "id": "1c2dc785",
   "metadata": {},
   "outputs": [
    {
     "name": "stdout",
     "output_type": "stream",
     "text": [
      "input: 7\n",
      "13\n"
     ]
    }
   ],
   "source": [
    "%run fibonacci.py"
   ]
  },
  {
   "cell_type": "code",
   "execution_count": 8,
   "id": "8643e191",
   "metadata": {},
   "outputs": [
    {
     "name": "stdout",
     "output_type": "stream",
     "text": [
      "Overwriting fibona.py\n"
     ]
    }
   ],
   "source": [
    "%%writefile fibona.py\n",
    "\n",
    "\"\"\"\n",
    "iterative한 방법\n",
    "\n",
    "for문과 변수 3개(aResult, aFront, aEnd)만으로 메모리를 최대한 아껴서 피보나치 수열을 구할 수도 있다.\n",
    "매 loop마다 aFront(앞의 항), aEnd(뒤의 항)를 더하여 aResult(결과 항)를 구하게 된다.\n",
    "\"\"\"\n",
    "\n",
    "def fibo(number):\n",
    "\n",
    "    # 0번째 피보나치 수는 0\n",
    "    if number == 0:\n",
    "        return 0\n",
    "\n",
    "    # 1번째 피보나치 수는 1\n",
    "    if number == 1:\n",
    "        return 1\n",
    "\n",
    "    aFront = 0\n",
    "    aEnd = 1\n",
    "\n",
    "    # 앞의 두 수를 더해서 aResult에 저장 후\n",
    "    # 그 다음 항을 구하기 위해 앞의 두 수를 한칸씩 밀어준다.\n",
    "    for _ in range(number-1):\n",
    "        aResult = aFront + aEnd\n",
    "        aFront = aEnd\n",
    "        aEnd = aResult\n",
    "\n",
    "    return aResult"
   ]
  },
  {
   "cell_type": "code",
   "execution_count": 9,
   "id": "8c9a8eb8",
   "metadata": {},
   "outputs": [
    {
     "data": {
      "text/plain": [
       "13"
      ]
     },
     "execution_count": 9,
     "metadata": {},
     "output_type": "execute_result"
    }
   ],
   "source": [
    "import fibona\n",
    "fibona.fibo(7)"
   ]
  },
  {
   "cell_type": "code",
   "execution_count": null,
   "id": "90628c71",
   "metadata": {},
   "outputs": [],
   "source": []
  }
 ],
 "metadata": {
  "kernelspec": {
   "display_name": "Python 3 (ipykernel)",
   "language": "python",
   "name": "python3"
  },
  "language_info": {
   "codemirror_mode": {
    "name": "ipython",
    "version": 3
   },
   "file_extension": ".py",
   "mimetype": "text/x-python",
   "name": "python",
   "nbconvert_exporter": "python",
   "pygments_lexer": "ipython3",
   "version": "3.9.7"
  }
 },
 "nbformat": 4,
 "nbformat_minor": 5
}
