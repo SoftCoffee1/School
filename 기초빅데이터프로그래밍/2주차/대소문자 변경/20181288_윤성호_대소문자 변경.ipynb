{
 "cells": [
  {
   "cell_type": "code",
   "execution_count": 3,
   "id": "3c2c4321",
   "metadata": {},
   "outputs": [
    {
     "name": "stdout",
     "output_type": "stream",
     "text": [
      "Overwriting chan.py\n"
     ]
    }
   ],
   "source": [
    "%%writefile chan.py\n",
    "\n",
    "\n",
    "# 각 문자의 개수를 출력하는 함수\n",
    "# 대문자는 소문자로, 소문자는 그대로 딕셔너리에 저장하여 출력한다.\n",
    "def wordCount(word):\n",
    "    \n",
    "    # 각 문자의 개수를 저장하는 딕셔너리\n",
    "    wordDict = {}\n",
    "    \n",
    "    for letter in word:\n",
    "        \n",
    "        # letter이 대문자인 경우\n",
    "        if \"A\" <= letter <= \"Z\":\n",
    "            \n",
    "            # newLetter에 소문자 저장\n",
    "            newLetter = chr(ord(letter) - ord(\"A\") + ord(\"a\"))\n",
    "        \n",
    "        # letter이 대문자가 아닌 경우(소문자이거나 알파벳이 아닌경우 모두 포함)\n",
    "        else:\n",
    "            \n",
    "            # newLetter에 그대로 저장\n",
    "            newLetter = letter\n",
    "            \n",
    "        \n",
    "        # wordDict에 없으면 item을 1이라고 추가해준다.\n",
    "        if newLetter not in wordDict:\n",
    "            wordDict[newLetter] = 1\n",
    "        \n",
    "        # wordDict에 있다면 item의 개수를 1 증가시켜준다.\n",
    "        else:\n",
    "            wordDict[newLetter] += 1\n",
    "            \n",
    "    # 각 문자이 개수를 문제의 출력 형식에 맞게 출력해주기 위한 장치이다.\n",
    "    # print문에서는 end 옵션을 이용하여 한줄에 모두 출력하였다. 파이썬에서는 print를 한 이후에는 자동으로 개행이 되기 때문이 이를 없애준 것이다.\n",
    "    for key in wordDict:\n",
    "        print(\"(%s : %d)\" %(key, wordDict[key]), end=\"  \")\n",
    "     \n",
    "    \n",
    "\n",
    "# 대소문자 변경하는 함수\n",
    "def caseSwap(word):\n",
    "    \n",
    "    # 결과문자열을 저장하는 변수\n",
    "    result = \"\"\n",
    "    \n",
    "    for letter in word:\n",
    "        \n",
    "        # letter이 대문자인 경우\n",
    "        if \"A\" <= letter <= \"Z\":\n",
    "            \n",
    "            # letter과 \"A\"의 아스키값 차이는 알파벳상 순서를 나타내고, 그 순서를 소문자에서의 순서로 바꿔주는 과정이 \"a\"의 아스키값을 더해주는 것이다.\n",
    "            result += chr(ord(letter) - ord(\"A\") + ord(\"a\"))\n",
    "            \n",
    "        # letter이 소문자인 경우\n",
    "        elif \"a\" <= letter <= \"z\":\n",
    "            \n",
    "            # 위의 방법으로 소문자를 대문자로 변경해준다.\n",
    "            result += chr(ord(letter) - ord(\"a\") + ord(\"A\"))\n",
    "            \n",
    "        # 알파벳 이외의 문자가 입력된경우 \n",
    "        # 에러 메세지를 result에 저장하고 for문 나오기\n",
    "        else:\n",
    "            result = \"알파벳만 입력해주세요.\"\n",
    "            break\n",
    "            \n",
    "    print(result)\n",
    "\n",
    "\n",
    "while True:\n",
    "    string = input(\"Input:\")\n",
    "    \n",
    "    # STOP을 입력하면 Bye를 출력하고 종료 \n",
    "    if string == \"STOP\":\n",
    "        print(\"Bye\")\n",
    "        break\n",
    "    \n",
    "    # 함수내부에서 return 값을 주지않고 print문을 썼기 때문에 함수가 실행되기만 해도 출력이 된다.\n",
    "    wordCount(string)\n",
    "    print()\n",
    "    caseSwap(string)"
   ]
  },
  {
   "cell_type": "code",
   "execution_count": 4,
   "id": "45acaa5d",
   "metadata": {},
   "outputs": [
    {
     "name": "stdout",
     "output_type": "stream",
     "text": [
      "Input:Sogang\n",
      "(s : 1)  (o : 1)  (g : 2)  (a : 1)  (n : 1)  \n",
      "sOGANG\n",
      "Input:SOGANG\n",
      "(s : 1)  (o : 1)  (g : 2)  (a : 1)  (n : 1)  \n",
      "sogang\n",
      "Input:Univ\n",
      "(u : 1)  (n : 1)  (i : 1)  (v : 1)  \n",
      "uNIV\n",
      "Input:Tel\n",
      "(t : 1)  (e : 1)  (l : 1)  \n",
      "tEL\n",
      "Input:STOP\n",
      "Bye\n"
     ]
    }
   ],
   "source": [
    "%run chan.py"
   ]
  },
  {
   "cell_type": "code",
   "execution_count": null,
   "id": "39c26199",
   "metadata": {
    "collapsed": true
   },
   "outputs": [],
   "source": []
  }
 ],
 "metadata": {
  "kernelspec": {
   "display_name": "Python 3.10.2 64-bit",
   "language": "python",
   "name": "python3102jvsc74a57bd0aee8b7b246df8f9039afb4144a1f6fd8d2ca17a180786b69acc140d282b71a49"
  },
  "language_info": {
   "codemirror_mode": {
    "name": "ipython",
    "version": 3
   },
   "file_extension": ".py",
   "mimetype": "text/x-python",
   "name": "python",
   "nbconvert_exporter": "python",
   "pygments_lexer": "ipython3",
   "version": "3.10.2"
  }
 },
 "nbformat": 4,
 "nbformat_minor": 5
}
