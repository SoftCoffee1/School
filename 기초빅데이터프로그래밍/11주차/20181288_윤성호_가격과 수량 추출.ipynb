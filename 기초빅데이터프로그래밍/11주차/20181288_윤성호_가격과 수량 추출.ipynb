{
 "cells": [
  {
   "cell_type": "code",
   "execution_count": 1,
   "id": "1a60cffe",
   "metadata": {},
   "outputs": [
    {
     "name": "stdout",
     "output_type": "stream",
     "text": [
      "23.45\n",
      "5.01\n",
      "889.00\n",
      "69.89\n"
     ]
    }
   ],
   "source": [
    "#실습 1\n",
    "\n",
    "# 정규표현식을 사용하기 위해 re 라이브러리를 불러온다.\n",
    "import re\n",
    "\n",
    "data = \"\"\"\n",
    "ABC01: $23.45\n",
    "HGG42: $5.01\n",
    "CFXE1: $889.00\n",
    "XTC99: $69.89\n",
    "Total items found: 4\n",
    "\"\"\"\n",
    "\n",
    "# 전방탐색을 이용하여 $기호 뒤에 하나 이상의 수를 가져오는 패턴 객체를 만든다.\n",
    "pat = re.compile(r'(?<=\\$).+')\n",
    "\n",
    "# 찾은 패턴을 이터레이터 객체로 반환하여 item에 저장한다.\n",
    "items = pat.finditer(data)\n",
    "\n",
    "# items를 돌며 찾은 패턴의 문자열을 출력한다.\n",
    "for item in items:\n",
    "    print(item.group())"
   ]
  },
  {
   "cell_type": "code",
   "execution_count": 2,
   "id": "72118f81",
   "metadata": {},
   "outputs": [
    {
     "name": "stdout",
     "output_type": "stream",
     "text": [
      "가격을 나타내는 숫자들\n",
      "30\n",
      "5\n",
      "\n",
      "수량을 나타내는 숫자들\n",
      "100\n",
      "50\n",
      "60\n"
     ]
    }
   ],
   "source": [
    "#실습 2\n",
    "\n",
    "# 정규표현식을 사용하기 위해 re 라이브러리를 불러온다.\n",
    "import re\n",
    "\n",
    "data = \"\"\"\n",
    "I paid $30 for 100 apples,\n",
    "50 oranges, and 60 pears.\n",
    "I saved $5 on this order.\n",
    "\"\"\"\n",
    "\n",
    "\n",
    "pricesPat = re.compile(r'(?<=\\$)\\d+')  # 가격 패턴 : $뒤에 있는 숫자들\n",
    "amountsPat = re.compile(r'(?<=\\s)\\d+') # 수량 패턴 : 그냥 숫자들\n",
    "\n",
    "prices = pricesPat.finditer(data)   # 가격 패턴과 일치하는 문자열을 이터레이터 객체로 반환한다. \n",
    "amounts = amountsPat.finditer(data) # 수량 패턴과 일치하는 문자열을 이터레이터 객체로 반환한다.\n",
    "\n",
    "# 가격을 나타내는 숫자들을 출력한다.\n",
    "print(\"가격을 나타내는 숫자들\")\n",
    "for price in prices:\n",
    "    print(price.group())\n",
    "print()\n",
    "    \n",
    "# 수량을 나타내는 숫자들을 출력한다.\n",
    "print(\"수량을 나타내는 숫자들\")\n",
    "for amount in amounts:\n",
    "    print(amount.group())"
   ]
  },
  {
   "cell_type": "code",
   "execution_count": null,
   "id": "ec0c9a92",
   "metadata": {},
   "outputs": [],
   "source": []
  },
  {
   "cell_type": "code",
   "execution_count": null,
   "id": "b12e8368",
   "metadata": {},
   "outputs": [],
   "source": []
  },
  {
   "cell_type": "code",
   "execution_count": null,
   "id": "26a846a0",
   "metadata": {},
   "outputs": [],
   "source": []
  }
 ],
 "metadata": {
  "kernelspec": {
   "display_name": "Python 3 (ipykernel)",
   "language": "python",
   "name": "python3"
  },
  "language_info": {
   "codemirror_mode": {
    "name": "ipython",
    "version": 3
   },
   "file_extension": ".py",
   "mimetype": "text/x-python",
   "name": "python",
   "nbconvert_exporter": "python",
   "pygments_lexer": "ipython3",
   "version": "3.9.7"
  }
 },
 "nbformat": 4,
 "nbformat_minor": 5
}
