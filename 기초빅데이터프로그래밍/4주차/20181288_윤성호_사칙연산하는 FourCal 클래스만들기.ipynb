{
 "cells": [
  {
   "cell_type": "code",
   "execution_count": 1,
   "id": "d63fd651",
   "metadata": {},
   "outputs": [],
   "source": [
    "class FourCal:\n",
    "    \n",
    "    ## 객체의 생성자\n",
    "    def __init__(self, a, b):\n",
    "        self.a = a\n",
    "        self.b = b\n",
    "    \n",
    "    ## a + b를 리턴\n",
    "    def sum(self):\n",
    "        return self.a + self.b\n",
    "        \n",
    "    \n",
    "    ## a - b를 리턴\n",
    "    def sub(self):\n",
    "        return self.a - self.b\n",
    "        \n",
    "    ## a * b를 리턴\n",
    "    def mul(self):\n",
    "        return self.a * self.b\n",
    "        \n",
    "    \n",
    "    ## a / b를 리턴 (단, b가 0이면 에러메세지 출력)\n",
    "    def div(self):\n",
    "        \n",
    "        if self.b == 0:\n",
    "            return \"Error : cannot divide by 0\"\n",
    "        \n",
    "        else:\n",
    "            return self.a / self.b"
   ]
  },
  {
   "cell_type": "code",
   "execution_count": 2,
   "id": "4db17e78",
   "metadata": {},
   "outputs": [
    {
     "data": {
      "text/plain": [
       "6"
      ]
     },
     "execution_count": 2,
     "metadata": {},
     "output_type": "execute_result"
    }
   ],
   "source": [
    "a=FourCal(4,2)\n",
    "b=FourCal(3,7)\n",
    "a.sum()"
   ]
  },
  {
   "cell_type": "code",
   "execution_count": 3,
   "id": "ddad4c7d",
   "metadata": {},
   "outputs": [
    {
     "data": {
      "text/plain": [
       "8"
      ]
     },
     "execution_count": 3,
     "metadata": {},
     "output_type": "execute_result"
    }
   ],
   "source": [
    "a.mul()"
   ]
  },
  {
   "cell_type": "code",
   "execution_count": 4,
   "id": "329e1088",
   "metadata": {
    "scrolled": false
   },
   "outputs": [
    {
     "data": {
      "text/plain": [
       "2"
      ]
     },
     "execution_count": 4,
     "metadata": {},
     "output_type": "execute_result"
    }
   ],
   "source": [
    "a.sub()"
   ]
  },
  {
   "cell_type": "code",
   "execution_count": 5,
   "id": "3d369f23",
   "metadata": {},
   "outputs": [
    {
     "data": {
      "text/plain": [
       "2.0"
      ]
     },
     "execution_count": 5,
     "metadata": {},
     "output_type": "execute_result"
    }
   ],
   "source": [
    "a.div()"
   ]
  },
  {
   "cell_type": "code",
   "execution_count": 6,
   "id": "746b9fa6",
   "metadata": {},
   "outputs": [
    {
     "data": {
      "text/plain": [
       "10"
      ]
     },
     "execution_count": 6,
     "metadata": {},
     "output_type": "execute_result"
    }
   ],
   "source": [
    "b.sum()"
   ]
  },
  {
   "cell_type": "code",
   "execution_count": 7,
   "id": "fab04a5a",
   "metadata": {},
   "outputs": [
    {
     "data": {
      "text/plain": [
       "21"
      ]
     },
     "execution_count": 7,
     "metadata": {},
     "output_type": "execute_result"
    }
   ],
   "source": [
    "b.mul()"
   ]
  },
  {
   "cell_type": "code",
   "execution_count": 8,
   "id": "60aaf781",
   "metadata": {},
   "outputs": [
    {
     "data": {
      "text/plain": [
       "-4"
      ]
     },
     "execution_count": 8,
     "metadata": {},
     "output_type": "execute_result"
    }
   ],
   "source": [
    "b.sub()"
   ]
  },
  {
   "cell_type": "code",
   "execution_count": 9,
   "id": "26ebfed1",
   "metadata": {},
   "outputs": [
    {
     "data": {
      "text/plain": [
       "0.42857142857142855"
      ]
     },
     "execution_count": 9,
     "metadata": {},
     "output_type": "execute_result"
    }
   ],
   "source": [
    "b.div()"
   ]
  },
  {
   "cell_type": "code",
   "execution_count": 10,
   "id": "9445bd2c",
   "metadata": {},
   "outputs": [],
   "source": [
    "c = FourCal(4,0)"
   ]
  },
  {
   "cell_type": "code",
   "execution_count": 11,
   "id": "c374440b",
   "metadata": {},
   "outputs": [
    {
     "data": {
      "text/plain": [
       "4"
      ]
     },
     "execution_count": 11,
     "metadata": {},
     "output_type": "execute_result"
    }
   ],
   "source": [
    "c.sum()"
   ]
  },
  {
   "cell_type": "code",
   "execution_count": 12,
   "id": "30cb34d5",
   "metadata": {},
   "outputs": [
    {
     "data": {
      "text/plain": [
       "4"
      ]
     },
     "execution_count": 12,
     "metadata": {},
     "output_type": "execute_result"
    }
   ],
   "source": [
    "c.sub()"
   ]
  },
  {
   "cell_type": "code",
   "execution_count": 13,
   "id": "a3bd92d9",
   "metadata": {},
   "outputs": [
    {
     "data": {
      "text/plain": [
       "0"
      ]
     },
     "execution_count": 13,
     "metadata": {},
     "output_type": "execute_result"
    }
   ],
   "source": [
    "c.mul()"
   ]
  },
  {
   "cell_type": "code",
   "execution_count": 14,
   "id": "f1ba62d9",
   "metadata": {},
   "outputs": [
    {
     "data": {
      "text/plain": [
       "'Error : cannot divide by 0'"
      ]
     },
     "execution_count": 14,
     "metadata": {},
     "output_type": "execute_result"
    }
   ],
   "source": [
    "c.div()"
   ]
  },
  {
   "cell_type": "code",
   "execution_count": null,
   "id": "6f907dec",
   "metadata": {},
   "outputs": [],
   "source": []
  }
 ],
 "metadata": {
  "kernelspec": {
   "display_name": "Python 3 (ipykernel)",
   "language": "python",
   "name": "python3"
  },
  "language_info": {
   "codemirror_mode": {
    "name": "ipython",
    "version": 3
   },
   "file_extension": ".py",
   "mimetype": "text/x-python",
   "name": "python",
   "nbconvert_exporter": "python",
   "pygments_lexer": "ipython3",
   "version": "3.9.7"
  }
 },
 "nbformat": 4,
 "nbformat_minor": 5
}
