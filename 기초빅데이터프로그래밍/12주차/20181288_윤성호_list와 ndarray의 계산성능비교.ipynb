{
 "cells": [
  {
   "cell_type": "code",
   "execution_count": 2,
   "id": "54bd9880",
   "metadata": {},
   "outputs": [
    {
     "name": "stdout",
     "output_type": "stream",
     "text": [
      "python list exe. time: 4.172238111495972\n",
      "numpy ndarray exe. time: 0.11466383934020996\n",
      "numpy is in this example 36.38669466767858 faster\n"
     ]
    }
   ],
   "source": [
    "# 실습\n",
    "\n",
    "import numpy as np\n",
    "import time\n",
    "\n",
    "# 배열의 사이즈를 설정한다.\n",
    "SIZE = 20000000\n",
    "\n",
    "# 파이썬 기본 리스트를 이용한 계산\n",
    "def pure_python_version():\n",
    "    \n",
    "    # 시작시간 측정\n",
    "    start = time.time()\n",
    "    \n",
    "    # 결과를 저장할 배열\n",
    "    result = []\n",
    "    \n",
    "    X = [i for i in range(SIZE)] # 0부터 SIZE-1까지의 수를 저장하는 리스트\n",
    "    Y = [i*2 for i in range(SIZE)] # 0부터 2*(SIZE-1)까지의 수 중 짝수를 저장하는 리스트\n",
    "    \n",
    "    # 두 리스트의 각 인덱스의 값을 더한 값을 result 리스트에 저장한다.\n",
    "    for index in range(SIZE):\n",
    "        result.append(X[index]+Y[index])\n",
    "    \n",
    "    # 종료시간 측정\n",
    "    end = time.time()\n",
    "    \n",
    "    # 실행시간을 리턴한다.\n",
    "    return end - start\n",
    "\n",
    "\n",
    "# numpy가 제공하는 ndarray를 이용한 계산\n",
    "def numpy_version():\n",
    "    \n",
    "    # 시작시간 측정\n",
    "    start = time.time()\n",
    "    \n",
    "    X = np.arange(1,SIZE) # 0부터 SIZE-1까지의 수를 저장하는 리스트\n",
    "    Y = np.arange(1,SIZE) * 2 # 0부터 2*(SIZE-1)까지의 수 중 짝수를 저장하는 리스트\n",
    "    \n",
    "    # 두 리스트의 각 인덱스의 값을 더한 값을 result 리스트에 저장한다.\n",
    "    result = X+Y\n",
    "    \n",
    "    # 종료시간 측정\n",
    "    end = time.time()\n",
    "    \n",
    "    # 실행시간을 리턴한다.\n",
    "    return end - start\n",
    "\n",
    "\n",
    "\n",
    "t1 = pure_python_version() # 파이썬 기본 리스트를 이용한 실행시간\n",
    "t2 = numpy_version()       # numpy가 제공하는 ndarray를 이용한 실행시간\n",
    "print(f\"python list exe. time: {t1}\")\n",
    "print(f\"numpy ndarray exe. time: {t2}\")\n",
    "print(f\"numpy is in this example {t1/t2} faster\")"
   ]
  },
  {
   "cell_type": "code",
   "execution_count": null,
   "id": "22ef75c3",
   "metadata": {},
   "outputs": [],
   "source": []
  }
 ],
 "metadata": {
  "kernelspec": {
   "display_name": "Python 3 (ipykernel)",
   "language": "python",
   "name": "python3"
  },
  "language_info": {
   "codemirror_mode": {
    "name": "ipython",
    "version": 3
   },
   "file_extension": ".py",
   "mimetype": "text/x-python",
   "name": "python",
   "nbconvert_exporter": "python",
   "pygments_lexer": "ipython3",
   "version": "3.9.7"
  }
 },
 "nbformat": 4,
 "nbformat_minor": 5
}
