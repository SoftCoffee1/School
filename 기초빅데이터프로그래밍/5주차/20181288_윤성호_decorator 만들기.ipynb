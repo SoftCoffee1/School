{
 "cells": [
  {
   "cell_type": "code",
   "execution_count": 2,
   "id": "4e0e3d53",
   "metadata": {},
   "outputs": [
    {
     "name": "stdout",
     "output_type": "stream",
     "text": [
      "Initializing Verbose.\n",
      "Program start\n",
      "\n",
      "Begin my_function\n",
      "hello, Mickey!\n",
      "End my_function\n",
      "\n",
      "Begin my_function\n",
      "hello, Minnie!\n",
      "End my_function\n",
      "\n",
      "Begin my_function\n",
      "hello, Donald!\n",
      "End my_function\n"
     ]
    }
   ],
   "source": [
    "## 데코레이터로 사용할 클래스를 정의하였다.\n",
    "class verbose():\n",
    "    def __init__(self, f):\n",
    "        print(\"Initializing Verbose.\")\n",
    "        self.func = f\n",
    "    \n",
    "    ## 데코레이터 적용함수의 인자의 유무에 관계없이 작동하도록 *args, **kwargs를 파라미터로 넣어줬다.\n",
    "    def __call__(self, *args, **kwargs):\n",
    "        print(\"\\nBegin\", self.func.__name__)\n",
    "        self.func(*args, **kwargs)\n",
    "        print(\"End\", self.func.__name__)\n",
    "        \n",
    "\n",
    "## my_function에 대해 데코레이터를 사용한다는 의미이다.\n",
    "@verbose\n",
    "def my_function(name):\n",
    "    print(\"hello, %s!\" %(name))\n",
    "    \n",
    "\n",
    "print(\"Program start\")\n",
    "my_function(\"Mickey\")\n",
    "my_function(\"Minnie\")\n",
    "my_function(\"Donald\")"
   ]
  },
  {
   "cell_type": "code",
   "execution_count": null,
   "id": "a58df1c6",
   "metadata": {},
   "outputs": [],
   "source": []
  }
 ],
 "metadata": {
  "kernelspec": {
   "display_name": "Python 3 (ipykernel)",
   "language": "python",
   "name": "python3"
  },
  "language_info": {
   "codemirror_mode": {
    "name": "ipython",
    "version": 3
   },
   "file_extension": ".py",
   "mimetype": "text/x-python",
   "name": "python",
   "nbconvert_exporter": "python",
   "pygments_lexer": "ipython3",
   "version": "3.9.7"
  }
 },
 "nbformat": 4,
 "nbformat_minor": 5
}
