{
 "cells": [
  {
   "cell_type": "code",
   "execution_count": 52,
   "id": "a9be8f34",
   "metadata": {},
   "outputs": [],
   "source": [
    "## 실행시작 날짜와 실행시간을 출력하기 위해 불러온 모듈\n",
    "import time\n",
    "\n",
    "## checkTime을 데코레이터로서 활용하기 위해 리턴값을 함수로 주었다.\n",
    "def checkTime(func):\n",
    "    \n",
    "    ## 인자의 유무에 관계없이 처리를 할 수 있도록 *args, **kwargs를 이용하였다.\n",
    "    def new_func(*args, **kwargs):\n",
    "        \n",
    "        ## 현재 실행시작 날짜를 주어진형식으로 출력한다.\n",
    "        print(time.strftime('[%Y-%m-%d %H:%M]', time.localtime(time.time())))\n",
    "        \n",
    "        ## 시작시간을 start_time에 저장한다.\n",
    "        start_time = time.time()\n",
    "        \n",
    "        ## 데코레이터가 적용될 함수를 동작시키는 부분이다.\n",
    "        func(*args, **kwargs)\n",
    "        \n",
    "        ## 종료시간을 end_time에 저장한다.\n",
    "        end_time = time.time()\n",
    "        \n",
    "        ## 실행시간을 (종료시간 - 시작시간)으로 구하여 출력한다.\n",
    "        print(\"\\n실행시간은:\", end_time - start_time)\n",
    "        \n",
    "    ## 리턴값으로 함수를 준다.\n",
    "    return new_func\n",
    "\n",
    "\n",
    "## checkTime 데코레이터를 aFunc에 입힌다.\n",
    "@checkTime\n",
    "def aFunc():\n",
    "    for i in range(1,101):\n",
    "        print(i, end=\" \")\n",
    "        \n",
    "\n",
    "## checkTime 데코레이터를 bFunc에 입힌다.\n",
    "@checkTime\n",
    "def bFunc(start, end):\n",
    "    for i in range(start, end+1):\n",
    "        print(i, end=\" \")"
   ]
  },
  {
   "cell_type": "code",
   "execution_count": 53,
   "id": "aad7fc1e",
   "metadata": {},
   "outputs": [
    {
     "name": "stdout",
     "output_type": "stream",
     "text": [
      "[2022-04-07 20:41]\n",
      "1 2 3 4 5 6 7 8 9 10 11 12 13 14 15 16 17 18 19 20 21 22 23 24 25 26 27 28 29 30 31 32 33 34 35 36 37 38 39 40 41 42 43 44 45 46 47 48 49 50 51 52 53 54 55 56 57 58 59 60 61 62 63 64 65 66 67 68 69 70 71 72 73 74 75 76 77 78 79 80 81 82 83 84 85 86 87 88 89 90 91 92 93 94 95 96 97 98 99 100 \n",
      "실행시간은: 0.0035851001739501953\n",
      "------------------------\n",
      "[2022-04-07 20:41]\n",
      "101 102 103 104 105 106 107 108 109 110 111 112 113 114 115 116 117 118 119 120 121 122 123 124 125 126 127 128 129 130 131 132 133 134 135 136 137 138 139 140 141 142 143 144 145 146 147 148 149 150 151 152 153 154 155 156 157 158 159 160 161 162 163 164 165 166 167 168 169 170 171 172 173 174 175 176 177 178 179 180 181 182 183 184 185 186 187 188 189 190 191 192 193 194 195 196 197 198 199 200 201 202 \n",
      "실행시간은: 0.0030541419982910156\n"
     ]
    }
   ],
   "source": [
    "aFunc()\n",
    "print(\"------------------------\")\n",
    "bFunc(101,202)"
   ]
  },
  {
   "cell_type": "code",
   "execution_count": null,
   "id": "b2a2d85d",
   "metadata": {},
   "outputs": [],
   "source": []
  }
 ],
 "metadata": {
  "kernelspec": {
   "display_name": "Python 3 (ipykernel)",
   "language": "python",
   "name": "python3"
  },
  "language_info": {
   "codemirror_mode": {
    "name": "ipython",
    "version": 3
   },
   "file_extension": ".py",
   "mimetype": "text/x-python",
   "name": "python",
   "nbconvert_exporter": "python",
   "pygments_lexer": "ipython3",
   "version": "3.9.7"
  }
 },
 "nbformat": 4,
 "nbformat_minor": 5
}
