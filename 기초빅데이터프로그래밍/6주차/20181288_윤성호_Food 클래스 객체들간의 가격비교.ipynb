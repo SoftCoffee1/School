{
 "cells": [
  {
   "cell_type": "code",
   "execution_count": 1,
   "id": "6214cad2",
   "metadata": {},
   "outputs": [
    {
     "name": "stdout",
     "output_type": "stream",
     "text": [
      "True\n",
      "8000\n"
     ]
    }
   ],
   "source": [
    "class Food(object):\n",
    "    \n",
    "    def __init__(self, name, price):\n",
    "        self.name = name\n",
    "        self.price = price\n",
    "    \n",
    "    ## Food 객체간 < 연산을 새롭게 정의한다.\n",
    "    def __lt__(self, other):\n",
    "        return self.price < other.price\n",
    "    \n",
    "    ## Food 객체간 + 연산을 새롭게 정의한다.\n",
    "    def __add__(self, other):\n",
    "        return self.price + other.price\n",
    "        \n",
    "\n",
    "food_1 = Food('아이스크림', 3000)\n",
    "food_2 = Food('햄버거', 5000)\n",
    "\n",
    "print(food_1 < food_2)\n",
    "print(food_1 + food_2)"
   ]
  },
  {
   "cell_type": "code",
   "execution_count": null,
   "id": "e986e6c3",
   "metadata": {},
   "outputs": [],
   "source": []
  },
  {
   "cell_type": "code",
   "execution_count": null,
   "id": "bf34de1b",
   "metadata": {},
   "outputs": [],
   "source": []
  }
 ],
 "metadata": {
  "kernelspec": {
   "display_name": "Python 3 (ipykernel)",
   "language": "python",
   "name": "python3"
  },
  "language_info": {
   "codemirror_mode": {
    "name": "ipython",
    "version": 3
   },
   "file_extension": ".py",
   "mimetype": "text/x-python",
   "name": "python",
   "nbconvert_exporter": "python",
   "pygments_lexer": "ipython3",
   "version": "3.9.7"
  }
 },
 "nbformat": 4,
 "nbformat_minor": 5
}
