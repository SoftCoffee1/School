{
 "cells": [
  {
   "cell_type": "code",
   "execution_count": 1,
   "id": "933f6afc",
   "metadata": {},
   "outputs": [],
   "source": [
    "import time\n",
    "from datetime import datetime, timedelta\n",
    "\n",
    "\n",
    "class Date:\n",
    "    \n",
    "    def __init__(self, date):\n",
    "        \n",
    "        ## 입력받은 날짜를 처리하기 쉽도록 공백을 제거해준다.\n",
    "        date = Date.preprocess(date)\n",
    "        \n",
    "        ## \",\" 를 구분자로 하여 정보들을 각각 year, month, day에 저장해준다.\n",
    "        year, month, day = date.split(\",\")\n",
    "        \n",
    "        ## 년, 월, 일을 인스턴스 변수로 저장해준다\n",
    "        self.year = int(year)\n",
    "        self.month = int(month)\n",
    "        self.day = int(day)\n",
    "        \n",
    "    \n",
    "    ## 현재 인스턴스변수에 저장된 날짜를 출력하는 매서드.\n",
    "    def show(self):\n",
    "        \n",
    "        ## 현재 시간 객체를 t에 저장해준다.\n",
    "        t = time.localtime()\n",
    "        \n",
    "        ## 인스턴스변수에 저장되어있는 날짜가 오늘이면 today를 출력해준다.\n",
    "        if (t.tm_year == self.year) and (t.tm_mon == self.month) and (t.tm_mday == self.day):\n",
    "            print(\"date: today\")\n",
    "        \n",
    "        ## 그렇지 않으면 인스턴스변수에 저장되어있는 날짜를 형식에 맞게 출력해준다.\n",
    "        else:\n",
    "            print(f\"date: {self.year}, {self.month}, {self.day}\")\n",
    "            \n",
    "    ## property를 이용하여 인스턴스변수에 저장된 날짜를 리턴하는 매서드.\n",
    "    @property\n",
    "    def date(self):\n",
    "        \n",
    "        ## 현재 시간 객체를 t에 저장해준다.\n",
    "        t = time.localtime()\n",
    "        \n",
    "        ## 인스턴스변수에 저장되어있는 날짜가 오늘이면 today를 리턴해준다.\n",
    "        if (t.tm_year == self.year) and (t.tm_mon == self.month) and (t.tm_mday == self.day):\n",
    "            return \"date: today\"\n",
    "        \n",
    "        ## 그렇지 않으면 인스턴스변수에 저장되어있는 날짜를 형식에 맞게 리턴해준다.\n",
    "        else:\n",
    "            return \"date: \"+str(self.year)+\", \"+str(self.month)+\", \"+str(self.day)\n",
    "        \n",
    "        \n",
    "    ## 입력받은 date의 년, 월, 일을 쉽게 뽑아 올 수 있도록 문자열 중간의 공백을 제거해주는 함수\n",
    "    @staticmethod\n",
    "    def preprocess(string):\n",
    "        \n",
    "        ## 결과 문자열을 초기화해준다.\n",
    "        preprocessedString = \"\"\n",
    "        \n",
    "        ## loop로 string을 돌면서\n",
    "        for letter in string:\n",
    "            \n",
    "            ## letter가 공백이 아니면 결과 문자열에 추가해준다.\n",
    "            if letter != \" \":\n",
    "                preprocessedString += letter\n",
    "        \n",
    "        ## 결과 문자열을 리턴해준다.\n",
    "        return preprocessedString\n",
    "    \n",
    "    ## 현재 날짜로 객체를 초기화 시켜준다.\n",
    "    ## init 과정이 여러번 필요할 때 staticmethod를 이용하는 좋은 예시이다.\n",
    "    @staticmethod\n",
    "    def now():\n",
    "        \n",
    "        ## 현재 시간 객체를 t에 저장한다.\n",
    "        t = time.localtime()\n",
    "        \n",
    "        ## 현재 년, 월, 일을 형식에 맞게 바꿔준다.\n",
    "        date = str(t.tm_year)+\",\"+str(t.tm_mon)+\",\"+str(t.tm_mday)\n",
    "        \n",
    "        ## Date 클래스를 리턴값으로 준다. init 과정을 추가적으로 진행해야할 때 많이 사용하는 테크닉이다.\n",
    "        return Date(date)\n",
    "    \n",
    "    @staticmethod\n",
    "    def yesterday(date):\n",
    "        \n",
    "        ## 입력받은 날짜를 처리하기 쉽도록 공백을 제거해준다.\n",
    "        date = Date.preprocess(date)\n",
    "        \n",
    "        ## \",\" 를 구분자로 하여 정수형 정보들을 각각 year, month, day에 저장해준다.\n",
    "        year, month, day = map(int, date.split(\",\"))\n",
    "        \n",
    "        ## 입력된 시각의 전날 정보를 yesterDay에 저장한다.\n",
    "        yesterDay = datetime(year, month, day) - timedelta(1)\n",
    "        \n",
    "        ## Date 클래스의 파라미터 형식에 맞춰서 date를 만들어준다.\n",
    "        date = str(yesterDay.year)+\",\"+str(yesterDay.month)+\",\"+str(yesterDay.day)\n",
    "        \n",
    "        ## 전날을 입력으로 받은 Date 객체를 리턴하여 init과정처럼 초기화를 진행해준다.\n",
    "        return Date(date)"
   ]
  },
  {
   "cell_type": "code",
   "execution_count": 2,
   "id": "dc25795f",
   "metadata": {
    "scrolled": true
   },
   "outputs": [
    {
     "name": "stdout",
     "output_type": "stream",
     "text": [
      "date: 2022, 4, 7\n",
      "date: today\n",
      "date: 2022, 4, 6\n"
     ]
    }
   ],
   "source": [
    "a = Date(\"2022, 4, 7\")\n",
    "a.show()\n",
    "b = Date.now()\n",
    "b.show()\n",
    "c = Date.yesterday(\"2022, 4, 7\")\n",
    "c.show()"
   ]
  },
  {
   "cell_type": "code",
   "execution_count": 3,
   "id": "2abf17cc",
   "metadata": {},
   "outputs": [
    {
     "name": "stdout",
     "output_type": "stream",
     "text": [
      "date: 2022, 4, 7\n",
      "date: today\n",
      "date: 2022, 4, 6\n"
     ]
    }
   ],
   "source": [
    "a = Date(\"2022, 4, 7\")\n",
    "a.show()\n",
    "b = Date.now()\n",
    "print(b.date)\n",
    "c = Date.yesterday(\"2022, 4, 7\")\n",
    "print(c.date)"
   ]
  },
  {
   "cell_type": "code",
   "execution_count": null,
   "id": "20976743",
   "metadata": {},
   "outputs": [],
   "source": []
  }
 ],
 "metadata": {
  "kernelspec": {
   "display_name": "Python 3 (ipykernel)",
   "language": "python",
   "name": "python3"
  },
  "language_info": {
   "codemirror_mode": {
    "name": "ipython",
    "version": 3
   },
   "file_extension": ".py",
   "mimetype": "text/x-python",
   "name": "python",
   "nbconvert_exporter": "python",
   "pygments_lexer": "ipython3",
   "version": "3.9.7"
  }
 },
 "nbformat": 4,
 "nbformat_minor": 5
}
