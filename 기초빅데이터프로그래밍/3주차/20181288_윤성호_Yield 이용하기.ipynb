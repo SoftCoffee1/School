{
 "cells": [
  {
   "cell_type": "code",
   "execution_count": 1,
   "id": "2357512a",
   "metadata": {},
   "outputs": [
    {
     "name": "stdout",
     "output_type": "stream",
     "text": [
      "Overwriting fibonacci1.py\n"
     ]
    }
   ],
   "source": [
    "%%writefile fibonacci1.py\n",
    "\n",
    "\n",
    "## n번째 까지 출력하기 위해 count 변수를 새롭게 지정하였다.\n",
    "def Fibo_func(n):\n",
    "    a,b = 0,1\n",
    "    count = 0\n",
    "    while count <= n:\n",
    "        yield a\n",
    "        a,b = b, a+b\n",
    "        count += 1"
   ]
  },
  {
   "cell_type": "code",
   "execution_count": 6,
   "id": "56e0ced5",
   "metadata": {},
   "outputs": [],
   "source": [
    "import fibonacci1\n",
    "fib = fibonacci1.Fibo_func(10)"
   ]
  },
  {
   "cell_type": "code",
   "execution_count": 7,
   "id": "c2915c53",
   "metadata": {},
   "outputs": [
    {
     "name": "stdout",
     "output_type": "stream",
     "text": [
      "0\n",
      "1\n",
      "1\n",
      "2\n",
      "3\n",
      "5\n",
      "8\n",
      "13\n",
      "21\n",
      "34\n",
      "55\n"
     ]
    }
   ],
   "source": [
    "for i in fib:\n",
    "    print(i)"
   ]
  },
  {
   "cell_type": "code",
   "execution_count": null,
   "id": "d4bf9a64",
   "metadata": {},
   "outputs": [],
   "source": []
  },
  {
   "cell_type": "code",
   "execution_count": null,
   "id": "fd0b5868",
   "metadata": {},
   "outputs": [],
   "source": []
  }
 ],
 "metadata": {
  "kernelspec": {
   "display_name": "Python 3 (ipykernel)",
   "language": "python",
   "name": "python3"
  },
  "language_info": {
   "codemirror_mode": {
    "name": "ipython",
    "version": 3
   },
   "file_extension": ".py",
   "mimetype": "text/x-python",
   "name": "python",
   "nbconvert_exporter": "python",
   "pygments_lexer": "ipython3",
   "version": "3.9.7"
  }
 },
 "nbformat": 4,
 "nbformat_minor": 5
}
