{
 "cells": [
  {
   "cell_type": "code",
   "execution_count": null,
   "id": "24d03c77",
   "metadata": {},
   "outputs": [],
   "source": [
    "## 주피터 노트북 화면 크기 조정하는 부분입니다.\n",
    "## 아래 퍼센트 부분 조교님 채점 환경에서 출력문 잘 보이실정도로 조정해주시면 좋을 것 같습니다. (60% -> 80%로 하시면 박스가 더 커집니다.)\n",
    "\n",
    "from IPython.core.display import display, HTML\n",
    "display(HTML(\"<style>.container { width:60% !important; }</style>\"))"
   ]
  },
  {
   "cell_type": "code",
   "execution_count": null,
   "id": "5955e8b6",
   "metadata": {},
   "outputs": [],
   "source": [
    "## 1번 문제\n",
    "\n",
    "fp = open(\"information.txt\", \"wt\")\n",
    "\n",
    "fp.write(\"3\\n\")\n",
    "fp.write(\"3.14\\n\")\n",
    "fp.write('\"3.14\"\\n')\n",
    "fp.close()"
   ]
  },
  {
   "cell_type": "code",
   "execution_count": null,
   "id": "54e8d18e",
   "metadata": {},
   "outputs": [],
   "source": [
    "# 2번 문제\n",
    "\n",
    "with open(\"information.txt\", \"rt\") as f:\n",
    "    print(f.read())"
   ]
  },
  {
   "cell_type": "code",
   "execution_count": null,
   "id": "8e50eb73",
   "metadata": {},
   "outputs": [],
   "source": [
    "# 3번 문제\n",
    "\n",
    "import pickle\n",
    "\n",
    "fp = open(\"information.dat\", \"wb\")\n",
    "\n",
    "pickle.dump(\"3\", fp)\n",
    "pickle.dump(\"3.14\", fp)\n",
    "pickle.dump('\"3.14\"', fp)\n",
    "fp.close()"
   ]
  },
  {
   "cell_type": "code",
   "execution_count": null,
   "id": "2c62dc92",
   "metadata": {},
   "outputs": [],
   "source": [
    "# 4번 문제\n",
    "\n",
    "with open(\"information.dat\", \"rb\") as f:\n",
    "    while True:\n",
    "        try:\n",
    "            print(pickle.load(f))\n",
    "        \n",
    "        except:\n",
    "            break"
   ]
  },
  {
   "cell_type": "code",
   "execution_count": null,
   "id": "0ec22dc4",
   "metadata": {},
   "outputs": [],
   "source": []
  }
 ],
 "metadata": {
  "kernelspec": {
   "display_name": "Python 3 (ipykernel)",
   "language": "python",
   "name": "python3"
  },
  "language_info": {
   "codemirror_mode": {
    "name": "ipython",
    "version": 3
   },
   "file_extension": ".py",
   "mimetype": "text/x-python",
   "name": "python",
   "nbconvert_exporter": "python",
   "pygments_lexer": "ipython3",
   "version": "3.9.7"
  }
 },
 "nbformat": 4,
 "nbformat_minor": 5
}
