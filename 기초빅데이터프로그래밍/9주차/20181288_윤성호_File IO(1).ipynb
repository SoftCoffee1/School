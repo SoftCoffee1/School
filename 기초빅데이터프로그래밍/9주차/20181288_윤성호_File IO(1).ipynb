{
 "cells": [
  {
   "cell_type": "code",
   "execution_count": 1,
   "id": "8af5e071",
   "metadata": {},
   "outputs": [],
   "source": [
    "## ban_stu.txt 파일객체를 fp라는 변수에 쓰기모드로 생성한다. \n",
    "fp = open(\"ban_stu.txt\", \"wt\")\n",
    "\n",
    "## write매서드를 통해 파일에 내용을 입력한다.\n",
    "fp.write(\"2 Alice Paul David Bob\\n\")\n",
    "fp.write(\"4 Cindy Stella Bill\\n\")\n",
    "fp.write(\"1 Henry Jenny Jessica Erin Tim\\n\")\n",
    "fp.write(\"3 John Joe Tom\\n\")\n",
    "\n",
    "## 파일객체를 닫아준다.\n",
    "fp.close()"
   ]
  },
  {
   "cell_type": "code",
   "execution_count": 2,
   "id": "cc07dbd9",
   "metadata": {},
   "outputs": [
    {
     "name": "stdout",
     "output_type": "stream",
     "text": [
      "{'2': ['Alice', 'Paul', 'David', 'Bob'], '4': ['Cindy', 'Stella', 'Bill'], '1': ['Henry', 'Jenny', 'Jessica', 'Erin', 'Tim'], '3': ['John', 'Joe', 'Tom']}\n"
     ]
    }
   ],
   "source": [
    "## ban_stu.txt 파일을 읽기보드로 열어 f라는 변수에 저장한다.\n",
    "f = open(\"ban_stu.txt\", \"r\")\n",
    "\n",
    "## 결과값을 저장할 사전이다.\n",
    "DICT = {}\n",
    "\n",
    "## 파일에서 한줄씩 받아온다.\n",
    "for line in f:\n",
    "    \n",
    "    ## line 문자열을 공백을 구분자로 리스트로 변환한다.\n",
    "    line = line.split()\n",
    "    \n",
    "    ## 첫번재 자료는 키이다.\n",
    "    key = line[0]\n",
    "    \n",
    "    ## 나머지 자료는 값이다.\n",
    "    for item in line[1:]:\n",
    "        \n",
    "        ## 만약 키가 사전에 없다면 새롭게 리스트를 생성하고\n",
    "        if key not in DICT:\n",
    "            DICT[key] = [item]\n",
    "            \n",
    "        ##키가 사전에 있다면 있는 리스트에 자료를 추가해준다.\n",
    "        else:\n",
    "            DICT[key].append(item)\n",
    "        \n",
    "        \n",
    "        \n",
    "print(DICT)"
   ]
  }
 ],
 "metadata": {
  "kernelspec": {
   "display_name": "Python 3 (ipykernel)",
   "language": "python",
   "name": "python3"
  },
  "language_info": {
   "codemirror_mode": {
    "name": "ipython",
    "version": 3
   },
   "file_extension": ".py",
   "mimetype": "text/x-python",
   "name": "python",
   "nbconvert_exporter": "python",
   "pygments_lexer": "ipython3",
   "version": "3.9.7"
  }
 },
 "nbformat": 4,
 "nbformat_minor": 5
}
