{
 "cells": [
  {
   "cell_type": "code",
   "execution_count": 1,
   "id": "4bd8487e",
   "metadata": {},
   "outputs": [
    {
     "data": {
      "text/html": [
       "<style>.container { width:60% !important; }</style>"
      ],
      "text/plain": [
       "<IPython.core.display.HTML object>"
      ]
     },
     "metadata": {},
     "output_type": "display_data"
    }
   ],
   "source": [
    "## 주피터 노트북 화면 크기 조정하는 부분입니다.\n",
    "## 아래 퍼센트 부분 조교님 채점 환경에서 출력문 잘 보이실정도로 조정해주시면 좋을 것 같습니다. (60% -> 80%로 하시면 박스가 더 커집니다.)\n",
    "\n",
    "from IPython.core.display import display, HTML\n",
    "display(HTML(\"<style>.container { width:60% !important; }</style>\"))"
   ]
  },
  {
   "cell_type": "code",
   "execution_count": 2,
   "id": "2b7d10e9",
   "metadata": {},
   "outputs": [
    {
     "name": "stdout",
     "output_type": "stream",
     "text": [
      "park sunJe 남 890901-*******\n",
      "kim SunHee 여 990103-*******\n"
     ]
    }
   ],
   "source": [
    "## 정보가 셀 상에서 주어진 경우를 처리하는 코드\n",
    "\n",
    "data = \"\"\"\n",
    "park sunJe 890901-1074422\n",
    "kim SunHee 990103-2079912\n",
    "\"\"\"\n",
    "\n",
    "## 공백을 구분자로 data를 문자열에서 리스트로 변환한다.\n",
    "data = data.split()\n",
    "\n",
    "## 각각의 원소에 대해\n",
    "for item in data:\n",
    "    \n",
    "    ## 가장 첫원소가 숫자이면 주민등록번호가 입력된 부분이다.\n",
    "    if '0' <= item[0] <= '9':\n",
    "        \n",
    "        ## 주민등록번호의 7번째 인덱스의 값은 성별정보를 담고있다.\n",
    "        ## 만약 1이나 3이면 남자이다.\n",
    "        if item[7] == '1' or item[7] == '3':\n",
    "            print(\"남\", end=\" \")\n",
    "        \n",
    "        ## 만약 2나 4이면 여자이다.\n",
    "        elif item[7] == '2' or itemp[7] == '4':\n",
    "            print(\"여\", end=\" \")\n",
    "        \n",
    "        ## 성별 출력이후에는 주민등록번호를 출력해주는데, 뒤쪽의 7개의 숫자는 *표를 이용해서 가려준다. \n",
    "        print(f\"{item[:7]}*******\")\n",
    "            \n",
    "    ## 가장 첫원소가 숫자가 아니면 이름이 입력된 부분이다.\n",
    "    else:\n",
    "        print(item, end=\" \")\n",
    "            "
   ]
  },
  {
   "cell_type": "code",
   "execution_count": 3,
   "id": "7a7f709d",
   "metadata": {},
   "outputs": [],
   "source": [
    "## 정보가 텍스트 파일로 주어진 경우를 처리하는 코드\n",
    "\n",
    "fp = open(\"Testdata.txt\", \"wt\")\n",
    "\n",
    "fp.write(\"홍길동 560922-1089123 02-705-8491\\n\")\n",
    "fp.write(\"홍길동 560922-1089123 042-7052-8491\\n\")\n",
    "fp.write(\"김바한솔 911212-1089123 042-705-8491\\n\")\n",
    "fp.write(\"김연찬 920922-1089123 031-7054-8491\\n\")\n",
    "fp.close()"
   ]
  },
  {
   "cell_type": "code",
   "execution_count": 4,
   "id": "0108580c",
   "metadata": {},
   "outputs": [
    {
     "name": "stdout",
     "output_type": "stream",
     "text": [
      "홍길동 남 560922-******* 02-705-8491\n",
      "홍길동 남 560922-******* 042-7052-8491\n",
      "김바한솔 남 911212-******* 042-705-8491\n",
      "김연찬 남 920922-******* 031-7054-8491\n"
     ]
    }
   ],
   "source": [
    "with open(\"Testdata.txt\", \"rt\") as f:\n",
    "    \n",
    "    ## 파일을 줄 단위로 받아온다.\n",
    "    for line in f:\n",
    "        \n",
    "        ## 파일의 각 줄은 (이름 주민등록번호 전화번호) 형식의 문자열로 되어있으므로 공백을 구분자로 하여 리스트로 변환해준다.\n",
    "        line = line.split()\n",
    "        \n",
    "        name = line[0] ## 0번째 인덱스에는 이름이 저장되어있다.\n",
    "        phoneNum = line[2] ## 1번째 인덱스에는 이름이 저장되어있다.\n",
    "        \n",
    "        ## 주민등록번호(line[1])의 7번째 인덱스의 값은 성별정보를 담고있다.\n",
    "        ## 만약 1이나 3이면 남자이다.\n",
    "        if line[1][7] == '1' or line[1][7] == '3':\n",
    "            gender = \"남\"\n",
    "            \n",
    "        ## 만약 2나 4이면 여자이다.\n",
    "        elif line[1][7] == '2' or line[1][7] == '4':\n",
    "            gender = \"여\"\n",
    "        \n",
    "        ## 주민등록번호의 뒤쪽 7개 숫자는 *표를 이용하여 가려준다.\n",
    "        ID = line[1][:7]+\"*******\"\n",
    "        \n",
    "        \n",
    "        ## 결과를 (이름, 성별, 가려진 주민등록번호 전화번호) 의 형식으로 출력해준다.\n",
    "        print(f\"{name} {gender} {ID} {phoneNum}\")\n",
    "        "
   ]
  },
  {
   "cell_type": "code",
   "execution_count": null,
   "id": "92b61749",
   "metadata": {},
   "outputs": [],
   "source": []
  }
 ],
 "metadata": {
  "kernelspec": {
   "display_name": "Python 3 (ipykernel)",
   "language": "python",
   "name": "python3"
  },
  "language_info": {
   "codemirror_mode": {
    "name": "ipython",
    "version": 3
   },
   "file_extension": ".py",
   "mimetype": "text/x-python",
   "name": "python",
   "nbconvert_exporter": "python",
   "pygments_lexer": "ipython3",
   "version": "3.9.7"
  }
 },
 "nbformat": 4,
 "nbformat_minor": 5
}
