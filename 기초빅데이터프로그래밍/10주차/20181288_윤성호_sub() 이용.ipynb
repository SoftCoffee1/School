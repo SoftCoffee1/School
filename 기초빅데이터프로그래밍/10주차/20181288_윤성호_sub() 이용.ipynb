{
 "cells": [
  {
   "cell_type": "code",
   "execution_count": null,
   "id": "065fb975",
   "metadata": {},
   "outputs": [],
   "source": [
    "# sub 실습\n",
    "\n",
    "def square(match):\n",
    "    value = int(match.group())\n",
    "    return str(value*value)\n",
    "\n",
    "\n",
    "import re\n",
    "\n",
    "data = \"Please, square the following numbers, 3 7 11 13 17 19\"\n",
    "pat = re.compile(r'\\d+')\n",
    "pat.sub(square, data)"
   ]
  },
  {
   "cell_type": "code",
   "execution_count": null,
   "id": "8c4e815a",
   "metadata": {},
   "outputs": [],
   "source": []
  }
 ],
 "metadata": {
  "kernelspec": {
   "display_name": "Python 3 (ipykernel)",
   "language": "python",
   "name": "python3"
  },
  "language_info": {
   "codemirror_mode": {
    "name": "ipython",
    "version": 3
   },
   "file_extension": ".py",
   "mimetype": "text/x-python",
   "name": "python",
   "nbconvert_exporter": "python",
   "pygments_lexer": "ipython3",
   "version": "3.9.7"
  }
 },
 "nbformat": 4,
 "nbformat_minor": 5
}
