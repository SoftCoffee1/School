{
 "cells": [
  {
   "cell_type": "code",
   "execution_count": null,
   "id": "4266d70c",
   "metadata": {},
   "outputs": [],
   "source": [
    "# 실습 1\n",
    "\n",
    "import re\n",
    "\n",
    "data =\"\"\"\n",
    "<HEAD>\n",
    "<TITLE>Seo Maria's Homepage</TITLE>\n",
    "</HEAD>\n",
    "\"\"\"\n",
    "\n",
    "pat = re.compile(r'(?<=<TITLE>)(.*)(?=</TITLE>)', re.I)\n",
    "result = pat.search(data)\n",
    "print(result.group())"
   ]
  },
  {
   "cell_type": "code",
   "execution_count": 8,
   "id": "7f7a8021",
   "metadata": {
    "scrolled": true
   },
   "outputs": [
    {
     "name": "stdout",
     "output_type": "stream",
     "text": [
      "foo.bar, autoexec.batt, sendmail.cf, checksum.exe"
     ]
    }
   ],
   "source": [
    "# 실습 2 : bat 파일 제외 찾기\n",
    "\n",
    "import re\n",
    "\n",
    "files = [\"foo.bar\", \"autoexec.bat\", \"sendmail.cf\", \"checksum.exe\"]\n",
    "\n",
    "pat = re.compile(r'.*[.](?!bat$).*$')\n",
    "\n",
    "flag = 0\n",
    "\n",
    "for file in files:\n",
    "    \n",
    "    try:\n",
    "        result = pat.search(file)\n",
    "        \n",
    "        if flag == 0:\n",
    "            print(result.group(), end=\"\")\n",
    "            flag = 1\n",
    "            \n",
    "        else:\n",
    "            print(', '+result.group(), end=\"\")\n",
    "        \n",
    "    except:\n",
    "        pass"
   ]
  },
  {
   "cell_type": "code",
   "execution_count": null,
   "id": "b588cc54",
   "metadata": {},
   "outputs": [],
   "source": [
    "# 실습 2 : bat, exe 파일 제외 찾기\n",
    "\n",
    "import re\n",
    "\n",
    "files = [\"foo.bar\", \"autoexec.bat\", \"sendmail.cf\", \"checksum.exe\"]\n",
    "\n",
    "pat = re.compile(r'.*[.](?!bat$|exe$).*$')\n",
    "\n",
    "flag = 0\n",
    "\n",
    "for file in files:\n",
    "    \n",
    "    try:\n",
    "        result = pat.search(file)\n",
    "        \n",
    "        if flag == 0:\n",
    "            print(result.group(), end=\"\")\n",
    "            flag = 1\n",
    "            \n",
    "        else:\n",
    "            print(', '+result.group(), end=\"\")\n",
    "        \n",
    "    except:\n",
    "        pass"
   ]
  },
  {
   "cell_type": "code",
   "execution_count": 5,
   "id": "a9070e74",
   "metadata": {},
   "outputs": [
    {
     "name": "stdout",
     "output_type": "stream",
     "text": [
      "['foo.bar', 'autoexec.batt', 'sendmail.cf', 'checksum.exe']\n"
     ]
    }
   ],
   "source": [
    "import re\n",
    "\n",
    "files = [\"foo.bar\", \"autoexec.batt\", \"sendmail.cf\", \"checksum.exe\"]\n",
    "\n",
    "result = []\n",
    "\n",
    "for file in files:\n",
    "    r = re.search('(?<=[.])bat', file)\n",
    "    \n",
    "    if r == None:\n",
    "        result.append(file)\n",
    "        \n",
    "print(result)"
   ]
  },
  {
   "cell_type": "code",
   "execution_count": null,
   "id": "4d2de414",
   "metadata": {},
   "outputs": [],
   "source": []
  }
 ],
 "metadata": {
  "kernelspec": {
   "display_name": "Python 3 (ipykernel)",
   "language": "python",
   "name": "python3"
  },
  "language_info": {
   "codemirror_mode": {
    "name": "ipython",
    "version": 3
   },
   "file_extension": ".py",
   "mimetype": "text/x-python",
   "name": "python",
   "nbconvert_exporter": "python",
   "pygments_lexer": "ipython3",
   "version": "3.9.7"
  }
 },
 "nbformat": 4,
 "nbformat_minor": 5
}
